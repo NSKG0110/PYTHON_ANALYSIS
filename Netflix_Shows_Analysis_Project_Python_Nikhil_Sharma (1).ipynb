{
 "cells": [
  {
   "cell_type": "markdown",
   "id": "19abe0ae",
   "metadata": {},
   "source": [
    "# EDA of Netflix Top 10 Shows Using Python Functions And Statistics"
   ]
  },
  {
   "cell_type": "code",
   "execution_count": 1,
   "id": "aab904f6",
   "metadata": {},
   "outputs": [],
   "source": [
    "import pandas as pd\n",
    "import numpy as np\n",
    "import seaborn as sns\n",
    "import matplotlib.pyplot as plt\n",
    "import statistics as st"
   ]
  },
  {
   "cell_type": "markdown",
   "id": "46a15ad4",
   "metadata": {},
   "source": [
    "### 1) Uploading The Dataset"
   ]
  },
  {
   "cell_type": "code",
   "execution_count": 2,
   "id": "57b5182b",
   "metadata": {},
   "outputs": [
    {
     "data": {
      "text/plain": [
       "(7100, 10)"
      ]
     },
     "execution_count": 2,
     "metadata": {},
     "output_type": "execute_result"
    }
   ],
   "source": [
    "df=pd.read_csv('netflix daily top 10.csv')\n",
    "df.shape"
   ]
  },
  {
   "cell_type": "markdown",
   "id": "6b6cb1a9",
   "metadata": {},
   "source": [
    "#### The no. of rows are 7,100 and columns are 10"
   ]
  },
  {
   "cell_type": "code",
   "execution_count": 3,
   "id": "f0ff2415",
   "metadata": {},
   "outputs": [
    {
     "data": {
      "text/html": [
       "<div>\n",
       "<style scoped>\n",
       "    .dataframe tbody tr th:only-of-type {\n",
       "        vertical-align: middle;\n",
       "    }\n",
       "\n",
       "    .dataframe tbody tr th {\n",
       "        vertical-align: top;\n",
       "    }\n",
       "\n",
       "    .dataframe thead th {\n",
       "        text-align: right;\n",
       "    }\n",
       "</style>\n",
       "<table border=\"1\" class=\"dataframe\">\n",
       "  <thead>\n",
       "    <tr style=\"text-align: right;\">\n",
       "      <th></th>\n",
       "      <th>As of</th>\n",
       "      <th>Rank</th>\n",
       "      <th>Year to Date Rank</th>\n",
       "      <th>Last Week Rank</th>\n",
       "      <th>Title</th>\n",
       "      <th>Type</th>\n",
       "      <th>Netflix Exclusive</th>\n",
       "      <th>Netflix Release Date</th>\n",
       "      <th>Days In Top 10</th>\n",
       "      <th>Viewership Score</th>\n",
       "    </tr>\n",
       "  </thead>\n",
       "  <tbody>\n",
       "    <tr>\n",
       "      <th>0</th>\n",
       "      <td>2020-04-01</td>\n",
       "      <td>1</td>\n",
       "      <td>1</td>\n",
       "      <td>1</td>\n",
       "      <td>Tiger King: Murder, Mayhem …</td>\n",
       "      <td>TV Show</td>\n",
       "      <td>Yes</td>\n",
       "      <td>Mar 20, 2020</td>\n",
       "      <td>9</td>\n",
       "      <td>90</td>\n",
       "    </tr>\n",
       "    <tr>\n",
       "      <th>1</th>\n",
       "      <td>2020-04-01</td>\n",
       "      <td>2</td>\n",
       "      <td>2</td>\n",
       "      <td>-</td>\n",
       "      <td>Ozark</td>\n",
       "      <td>TV Show</td>\n",
       "      <td>Yes</td>\n",
       "      <td>Jul 21, 2017</td>\n",
       "      <td>5</td>\n",
       "      <td>45</td>\n",
       "    </tr>\n",
       "    <tr>\n",
       "      <th>2</th>\n",
       "      <td>2020-04-01</td>\n",
       "      <td>3</td>\n",
       "      <td>3</td>\n",
       "      <td>2</td>\n",
       "      <td>All American</td>\n",
       "      <td>TV Show</td>\n",
       "      <td>NaN</td>\n",
       "      <td>Mar 28, 2019</td>\n",
       "      <td>9</td>\n",
       "      <td>76</td>\n",
       "    </tr>\n",
       "    <tr>\n",
       "      <th>3</th>\n",
       "      <td>2020-04-01</td>\n",
       "      <td>4</td>\n",
       "      <td>4</td>\n",
       "      <td>-</td>\n",
       "      <td>Blood Father</td>\n",
       "      <td>Movie</td>\n",
       "      <td>NaN</td>\n",
       "      <td>Mar 26, 2020</td>\n",
       "      <td>5</td>\n",
       "      <td>30</td>\n",
       "    </tr>\n",
       "    <tr>\n",
       "      <th>4</th>\n",
       "      <td>2020-04-01</td>\n",
       "      <td>5</td>\n",
       "      <td>5</td>\n",
       "      <td>4</td>\n",
       "      <td>The Platform</td>\n",
       "      <td>Movie</td>\n",
       "      <td>Yes</td>\n",
       "      <td>Mar 20, 2020</td>\n",
       "      <td>9</td>\n",
       "      <td>55</td>\n",
       "    </tr>\n",
       "  </tbody>\n",
       "</table>\n",
       "</div>"
      ],
      "text/plain": [
       "        As of  Rank Year to Date Rank Last Week Rank  \\\n",
       "0  2020-04-01     1                 1              1   \n",
       "1  2020-04-01     2                 2              -   \n",
       "2  2020-04-01     3                 3              2   \n",
       "3  2020-04-01     4                 4              -   \n",
       "4  2020-04-01     5                 5              4   \n",
       "\n",
       "                          Title     Type Netflix Exclusive  \\\n",
       "0  Tiger King: Murder, Mayhem …  TV Show               Yes   \n",
       "1                         Ozark  TV Show               Yes   \n",
       "2                  All American  TV Show               NaN   \n",
       "3                  Blood Father    Movie               NaN   \n",
       "4                  The Platform    Movie               Yes   \n",
       "\n",
       "  Netflix Release Date  Days In Top 10  Viewership Score  \n",
       "0         Mar 20, 2020               9                90  \n",
       "1         Jul 21, 2017               5                45  \n",
       "2         Mar 28, 2019               9                76  \n",
       "3         Mar 26, 2020               5                30  \n",
       "4         Mar 20, 2020               9                55  "
      ]
     },
     "execution_count": 3,
     "metadata": {},
     "output_type": "execute_result"
    }
   ],
   "source": [
    "df.head()"
   ]
  },
  {
   "cell_type": "code",
   "execution_count": 4,
   "id": "ba3a4b12",
   "metadata": {},
   "outputs": [
    {
     "data": {
      "text/html": [
       "<div>\n",
       "<style scoped>\n",
       "    .dataframe tbody tr th:only-of-type {\n",
       "        vertical-align: middle;\n",
       "    }\n",
       "\n",
       "    .dataframe tbody tr th {\n",
       "        vertical-align: top;\n",
       "    }\n",
       "\n",
       "    .dataframe thead th {\n",
       "        text-align: right;\n",
       "    }\n",
       "</style>\n",
       "<table border=\"1\" class=\"dataframe\">\n",
       "  <thead>\n",
       "    <tr style=\"text-align: right;\">\n",
       "      <th></th>\n",
       "      <th>As of</th>\n",
       "      <th>Rank</th>\n",
       "      <th>Year to Date Rank</th>\n",
       "      <th>Last Week Rank</th>\n",
       "      <th>Title</th>\n",
       "      <th>Type</th>\n",
       "      <th>Netflix Exclusive</th>\n",
       "      <th>Netflix Release Date</th>\n",
       "      <th>Days In Top 10</th>\n",
       "      <th>Viewership Score</th>\n",
       "    </tr>\n",
       "  </thead>\n",
       "  <tbody>\n",
       "    <tr>\n",
       "      <th>7095</th>\n",
       "      <td>2022-03-11</td>\n",
       "      <td>6</td>\n",
       "      <td>5</td>\n",
       "      <td>1</td>\n",
       "      <td>Worst Roommate Ever</td>\n",
       "      <td>TV Show</td>\n",
       "      <td>Yes</td>\n",
       "      <td>Mar 1, 2022</td>\n",
       "      <td>10</td>\n",
       "      <td>81</td>\n",
       "    </tr>\n",
       "    <tr>\n",
       "      <th>7096</th>\n",
       "      <td>2022-03-11</td>\n",
       "      <td>7</td>\n",
       "      <td>7</td>\n",
       "      <td>2</td>\n",
       "      <td>Vikings: Valhalla</td>\n",
       "      <td>TV Show</td>\n",
       "      <td>Yes</td>\n",
       "      <td>Feb 25, 2022</td>\n",
       "      <td>14</td>\n",
       "      <td>100</td>\n",
       "    </tr>\n",
       "    <tr>\n",
       "      <th>7097</th>\n",
       "      <td>2022-03-11</td>\n",
       "      <td>8</td>\n",
       "      <td>8</td>\n",
       "      <td>-</td>\n",
       "      <td>Shooter</td>\n",
       "      <td>Movie</td>\n",
       "      <td>NaN</td>\n",
       "      <td>Aug 1, 2014</td>\n",
       "      <td>3</td>\n",
       "      <td>7</td>\n",
       "    </tr>\n",
       "    <tr>\n",
       "      <th>7098</th>\n",
       "      <td>2022-03-11</td>\n",
       "      <td>9</td>\n",
       "      <td>9</td>\n",
       "      <td>7</td>\n",
       "      <td>Shrek 2</td>\n",
       "      <td>Movie</td>\n",
       "      <td>NaN</td>\n",
       "      <td>Mar 1, 2022</td>\n",
       "      <td>10</td>\n",
       "      <td>33</td>\n",
       "    </tr>\n",
       "    <tr>\n",
       "      <th>7099</th>\n",
       "      <td>2022-03-11</td>\n",
       "      <td>10</td>\n",
       "      <td>10</td>\n",
       "      <td>-</td>\n",
       "      <td>Shrek</td>\n",
       "      <td>Movie</td>\n",
       "      <td>NaN</td>\n",
       "      <td>May 1, 2018</td>\n",
       "      <td>7</td>\n",
       "      <td>12</td>\n",
       "    </tr>\n",
       "  </tbody>\n",
       "</table>\n",
       "</div>"
      ],
      "text/plain": [
       "           As of  Rank Year to Date Rank Last Week Rank                Title  \\\n",
       "7095  2022-03-11     6                 5              1  Worst Roommate Ever   \n",
       "7096  2022-03-11     7                 7              2    Vikings: Valhalla   \n",
       "7097  2022-03-11     8                 8              -              Shooter   \n",
       "7098  2022-03-11     9                 9              7              Shrek 2   \n",
       "7099  2022-03-11    10                10              -                Shrek   \n",
       "\n",
       "         Type Netflix Exclusive Netflix Release Date  Days In Top 10  \\\n",
       "7095  TV Show               Yes          Mar 1, 2022              10   \n",
       "7096  TV Show               Yes         Feb 25, 2022              14   \n",
       "7097    Movie               NaN          Aug 1, 2014               3   \n",
       "7098    Movie               NaN          Mar 1, 2022              10   \n",
       "7099    Movie               NaN          May 1, 2018               7   \n",
       "\n",
       "      Viewership Score  \n",
       "7095                81  \n",
       "7096               100  \n",
       "7097                 7  \n",
       "7098                33  \n",
       "7099                12  "
      ]
     },
     "execution_count": 4,
     "metadata": {},
     "output_type": "execute_result"
    }
   ],
   "source": [
    "df.tail()"
   ]
  },
  {
   "cell_type": "code",
   "execution_count": 5,
   "id": "faa46901",
   "metadata": {},
   "outputs": [
    {
     "data": {
      "text/plain": [
       "Index(['As of', 'Rank', 'Year to Date Rank', 'Last Week Rank', 'Title', 'Type',\n",
       "       'Netflix Exclusive', 'Netflix Release Date', 'Days In Top 10',\n",
       "       'Viewership Score'],\n",
       "      dtype='object')"
      ]
     },
     "execution_count": 5,
     "metadata": {},
     "output_type": "execute_result"
    }
   ],
   "source": [
    "df.columns"
   ]
  },
  {
   "cell_type": "code",
   "execution_count": 6,
   "id": "6eb9edcf",
   "metadata": {},
   "outputs": [
    {
     "data": {
      "text/plain": [
       "As of                   object\n",
       "Rank                     int64\n",
       "Year to Date Rank       object\n",
       "Last Week Rank          object\n",
       "Title                   object\n",
       "Type                    object\n",
       "Netflix Exclusive       object\n",
       "Netflix Release Date    object\n",
       "Days In Top 10           int64\n",
       "Viewership Score         int64\n",
       "dtype: object"
      ]
     },
     "execution_count": 6,
     "metadata": {},
     "output_type": "execute_result"
    }
   ],
   "source": [
    "df.dtypes"
   ]
  },
  {
   "cell_type": "code",
   "execution_count": 7,
   "id": "333ed6b4",
   "metadata": {},
   "outputs": [
    {
     "data": {
      "text/plain": [
       "As of                   7100\n",
       "Rank                    7100\n",
       "Year to Date Rank       7100\n",
       "Last Week Rank          7100\n",
       "Title                   7100\n",
       "Type                    7100\n",
       "Netflix Exclusive       4599\n",
       "Netflix Release Date    7100\n",
       "Days In Top 10          7100\n",
       "Viewership Score        7100\n",
       "dtype: int64"
      ]
     },
     "execution_count": 7,
     "metadata": {},
     "output_type": "execute_result"
    }
   ],
   "source": [
    "df.count()"
   ]
  },
  {
   "cell_type": "code",
   "execution_count": 8,
   "id": "183ec0be",
   "metadata": {},
   "outputs": [
    {
     "name": "stdout",
     "output_type": "stream",
     "text": [
      "<class 'pandas.core.frame.DataFrame'>\n",
      "RangeIndex: 7100 entries, 0 to 7099\n",
      "Data columns (total 10 columns):\n",
      " #   Column                Non-Null Count  Dtype \n",
      "---  ------                --------------  ----- \n",
      " 0   As of                 7100 non-null   object\n",
      " 1   Rank                  7100 non-null   int64 \n",
      " 2   Year to Date Rank     7100 non-null   object\n",
      " 3   Last Week Rank        7100 non-null   object\n",
      " 4   Title                 7100 non-null   object\n",
      " 5   Type                  7100 non-null   object\n",
      " 6   Netflix Exclusive     4599 non-null   object\n",
      " 7   Netflix Release Date  7100 non-null   object\n",
      " 8   Days In Top 10        7100 non-null   int64 \n",
      " 9   Viewership Score      7100 non-null   int64 \n",
      "dtypes: int64(3), object(7)\n",
      "memory usage: 554.8+ KB\n"
     ]
    }
   ],
   "source": [
    "df.info()"
   ]
  },
  {
   "cell_type": "markdown",
   "id": "7b8a6a80",
   "metadata": {},
   "source": [
    "### 2) Dropping Duplicates"
   ]
  },
  {
   "cell_type": "code",
   "execution_count": 9,
   "id": "5379c853",
   "metadata": {},
   "outputs": [
    {
     "data": {
      "text/plain": [
       "0"
      ]
     },
     "execution_count": 9,
     "metadata": {},
     "output_type": "execute_result"
    }
   ],
   "source": [
    "df.duplicated().sum()"
   ]
  },
  {
   "cell_type": "markdown",
   "id": "0d870911",
   "metadata": {},
   "source": [
    "#### There are no duplicate values present in our database"
   ]
  },
  {
   "cell_type": "markdown",
   "id": "8e2860e2",
   "metadata": {},
   "source": [
    "### 3) Renaming columns"
   ]
  },
  {
   "cell_type": "code",
   "execution_count": 10,
   "id": "0c9ebb39",
   "metadata": {},
   "outputs": [],
   "source": [
    "df.rename(columns={'Netflix Release Date':'Netflix Date'},inplace=True)\n",
    "df.rename(columns={'Year to Date Rank':'Yr-Date Rank'},inplace=True)\n",
    "df.rename(columns={'Netflix Exclusive':'Netflix Excl.'},inplace=True)"
   ]
  },
  {
   "cell_type": "code",
   "execution_count": 11,
   "id": "d001aa13",
   "metadata": {},
   "outputs": [
    {
     "data": {
      "text/html": [
       "<div>\n",
       "<style scoped>\n",
       "    .dataframe tbody tr th:only-of-type {\n",
       "        vertical-align: middle;\n",
       "    }\n",
       "\n",
       "    .dataframe tbody tr th {\n",
       "        vertical-align: top;\n",
       "    }\n",
       "\n",
       "    .dataframe thead th {\n",
       "        text-align: right;\n",
       "    }\n",
       "</style>\n",
       "<table border=\"1\" class=\"dataframe\">\n",
       "  <thead>\n",
       "    <tr style=\"text-align: right;\">\n",
       "      <th></th>\n",
       "      <th>As of</th>\n",
       "      <th>Rank</th>\n",
       "      <th>Yr-Date Rank</th>\n",
       "      <th>Last Week Rank</th>\n",
       "      <th>Title</th>\n",
       "      <th>Type</th>\n",
       "      <th>Netflix Excl.</th>\n",
       "      <th>Netflix Date</th>\n",
       "      <th>Days In Top 10</th>\n",
       "      <th>Viewership Score</th>\n",
       "    </tr>\n",
       "  </thead>\n",
       "  <tbody>\n",
       "    <tr>\n",
       "      <th>0</th>\n",
       "      <td>2020-04-01</td>\n",
       "      <td>1</td>\n",
       "      <td>1</td>\n",
       "      <td>1</td>\n",
       "      <td>Tiger King: Murder, Mayhem …</td>\n",
       "      <td>TV Show</td>\n",
       "      <td>Yes</td>\n",
       "      <td>Mar 20, 2020</td>\n",
       "      <td>9</td>\n",
       "      <td>90</td>\n",
       "    </tr>\n",
       "    <tr>\n",
       "      <th>1</th>\n",
       "      <td>2020-04-01</td>\n",
       "      <td>2</td>\n",
       "      <td>2</td>\n",
       "      <td>-</td>\n",
       "      <td>Ozark</td>\n",
       "      <td>TV Show</td>\n",
       "      <td>Yes</td>\n",
       "      <td>Jul 21, 2017</td>\n",
       "      <td>5</td>\n",
       "      <td>45</td>\n",
       "    </tr>\n",
       "    <tr>\n",
       "      <th>2</th>\n",
       "      <td>2020-04-01</td>\n",
       "      <td>3</td>\n",
       "      <td>3</td>\n",
       "      <td>2</td>\n",
       "      <td>All American</td>\n",
       "      <td>TV Show</td>\n",
       "      <td>NaN</td>\n",
       "      <td>Mar 28, 2019</td>\n",
       "      <td>9</td>\n",
       "      <td>76</td>\n",
       "    </tr>\n",
       "    <tr>\n",
       "      <th>3</th>\n",
       "      <td>2020-04-01</td>\n",
       "      <td>4</td>\n",
       "      <td>4</td>\n",
       "      <td>-</td>\n",
       "      <td>Blood Father</td>\n",
       "      <td>Movie</td>\n",
       "      <td>NaN</td>\n",
       "      <td>Mar 26, 2020</td>\n",
       "      <td>5</td>\n",
       "      <td>30</td>\n",
       "    </tr>\n",
       "    <tr>\n",
       "      <th>4</th>\n",
       "      <td>2020-04-01</td>\n",
       "      <td>5</td>\n",
       "      <td>5</td>\n",
       "      <td>4</td>\n",
       "      <td>The Platform</td>\n",
       "      <td>Movie</td>\n",
       "      <td>Yes</td>\n",
       "      <td>Mar 20, 2020</td>\n",
       "      <td>9</td>\n",
       "      <td>55</td>\n",
       "    </tr>\n",
       "  </tbody>\n",
       "</table>\n",
       "</div>"
      ],
      "text/plain": [
       "        As of  Rank Yr-Date Rank Last Week Rank                         Title  \\\n",
       "0  2020-04-01     1            1              1  Tiger King: Murder, Mayhem …   \n",
       "1  2020-04-01     2            2              -                         Ozark   \n",
       "2  2020-04-01     3            3              2                  All American   \n",
       "3  2020-04-01     4            4              -                  Blood Father   \n",
       "4  2020-04-01     5            5              4                  The Platform   \n",
       "\n",
       "      Type Netflix Excl.  Netflix Date  Days In Top 10  Viewership Score  \n",
       "0  TV Show           Yes  Mar 20, 2020               9                90  \n",
       "1  TV Show           Yes  Jul 21, 2017               5                45  \n",
       "2  TV Show           NaN  Mar 28, 2019               9                76  \n",
       "3    Movie           NaN  Mar 26, 2020               5                30  \n",
       "4    Movie           Yes  Mar 20, 2020               9                55  "
      ]
     },
     "execution_count": 11,
     "metadata": {},
     "output_type": "execute_result"
    }
   ],
   "source": [
    "df.head()"
   ]
  },
  {
   "cell_type": "markdown",
   "id": "fe0ca262",
   "metadata": {},
   "source": [
    "### 4) Checking For Null Values"
   ]
  },
  {
   "cell_type": "code",
   "execution_count": 12,
   "id": "b45573b3",
   "metadata": {},
   "outputs": [
    {
     "data": {
      "text/plain": [
       "As of                  0\n",
       "Rank                   0\n",
       "Yr-Date Rank           0\n",
       "Last Week Rank         0\n",
       "Title                  0\n",
       "Type                   0\n",
       "Netflix Excl.       2501\n",
       "Netflix Date           0\n",
       "Days In Top 10         0\n",
       "Viewership Score       0\n",
       "dtype: int64"
      ]
     },
     "execution_count": 12,
     "metadata": {},
     "output_type": "execute_result"
    }
   ],
   "source": [
    "df.isnull().sum()"
   ]
  },
  {
   "cell_type": "markdown",
   "id": "1194e37a",
   "metadata": {},
   "source": [
    "#### It is observed that only the column 'Netflix Exclusive' has 2501 NAN values. These don't affect the analysis, so we will consider these as NA."
   ]
  },
  {
   "cell_type": "code",
   "execution_count": 13,
   "id": "cc11d069",
   "metadata": {},
   "outputs": [
    {
     "data": {
      "text/html": [
       "<div>\n",
       "<style scoped>\n",
       "    .dataframe tbody tr th:only-of-type {\n",
       "        vertical-align: middle;\n",
       "    }\n",
       "\n",
       "    .dataframe tbody tr th {\n",
       "        vertical-align: top;\n",
       "    }\n",
       "\n",
       "    .dataframe thead th {\n",
       "        text-align: right;\n",
       "    }\n",
       "</style>\n",
       "<table border=\"1\" class=\"dataframe\">\n",
       "  <thead>\n",
       "    <tr style=\"text-align: right;\">\n",
       "      <th></th>\n",
       "      <th>As of</th>\n",
       "      <th>Rank</th>\n",
       "      <th>Yr-Date Rank</th>\n",
       "      <th>Last Week Rank</th>\n",
       "      <th>Title</th>\n",
       "      <th>Type</th>\n",
       "      <th>Netflix Excl.</th>\n",
       "      <th>Netflix Date</th>\n",
       "      <th>Days In Top 10</th>\n",
       "      <th>Viewership Score</th>\n",
       "    </tr>\n",
       "  </thead>\n",
       "  <tbody>\n",
       "    <tr>\n",
       "      <th>0</th>\n",
       "      <td>2020-04-01</td>\n",
       "      <td>1</td>\n",
       "      <td>1</td>\n",
       "      <td>1</td>\n",
       "      <td>Tiger King: Murder, Mayhem …</td>\n",
       "      <td>TV Show</td>\n",
       "      <td>Yes</td>\n",
       "      <td>Mar 20, 2020</td>\n",
       "      <td>9</td>\n",
       "      <td>90</td>\n",
       "    </tr>\n",
       "    <tr>\n",
       "      <th>1</th>\n",
       "      <td>2020-04-01</td>\n",
       "      <td>2</td>\n",
       "      <td>2</td>\n",
       "      <td>-</td>\n",
       "      <td>Ozark</td>\n",
       "      <td>TV Show</td>\n",
       "      <td>Yes</td>\n",
       "      <td>Jul 21, 2017</td>\n",
       "      <td>5</td>\n",
       "      <td>45</td>\n",
       "    </tr>\n",
       "    <tr>\n",
       "      <th>2</th>\n",
       "      <td>2020-04-01</td>\n",
       "      <td>3</td>\n",
       "      <td>3</td>\n",
       "      <td>2</td>\n",
       "      <td>All American</td>\n",
       "      <td>TV Show</td>\n",
       "      <td>NA</td>\n",
       "      <td>Mar 28, 2019</td>\n",
       "      <td>9</td>\n",
       "      <td>76</td>\n",
       "    </tr>\n",
       "    <tr>\n",
       "      <th>3</th>\n",
       "      <td>2020-04-01</td>\n",
       "      <td>4</td>\n",
       "      <td>4</td>\n",
       "      <td>-</td>\n",
       "      <td>Blood Father</td>\n",
       "      <td>Movie</td>\n",
       "      <td>NA</td>\n",
       "      <td>Mar 26, 2020</td>\n",
       "      <td>5</td>\n",
       "      <td>30</td>\n",
       "    </tr>\n",
       "    <tr>\n",
       "      <th>4</th>\n",
       "      <td>2020-04-01</td>\n",
       "      <td>5</td>\n",
       "      <td>5</td>\n",
       "      <td>4</td>\n",
       "      <td>The Platform</td>\n",
       "      <td>Movie</td>\n",
       "      <td>Yes</td>\n",
       "      <td>Mar 20, 2020</td>\n",
       "      <td>9</td>\n",
       "      <td>55</td>\n",
       "    </tr>\n",
       "  </tbody>\n",
       "</table>\n",
       "</div>"
      ],
      "text/plain": [
       "        As of  Rank Yr-Date Rank Last Week Rank                         Title  \\\n",
       "0  2020-04-01     1            1              1  Tiger King: Murder, Mayhem …   \n",
       "1  2020-04-01     2            2              -                         Ozark   \n",
       "2  2020-04-01     3            3              2                  All American   \n",
       "3  2020-04-01     4            4              -                  Blood Father   \n",
       "4  2020-04-01     5            5              4                  The Platform   \n",
       "\n",
       "      Type Netflix Excl.  Netflix Date  Days In Top 10  Viewership Score  \n",
       "0  TV Show           Yes  Mar 20, 2020               9                90  \n",
       "1  TV Show           Yes  Jul 21, 2017               5                45  \n",
       "2  TV Show            NA  Mar 28, 2019               9                76  \n",
       "3    Movie            NA  Mar 26, 2020               5                30  \n",
       "4    Movie           Yes  Mar 20, 2020               9                55  "
      ]
     },
     "execution_count": 13,
     "metadata": {},
     "output_type": "execute_result"
    }
   ],
   "source": [
    "df['Netflix Excl.']=df['Netflix Excl.'].fillna('NA')\n",
    "df.head()"
   ]
  },
  {
   "cell_type": "code",
   "execution_count": 14,
   "id": "04e3b788",
   "metadata": {},
   "outputs": [
    {
     "data": {
      "text/plain": [
       "As of               0\n",
       "Rank                0\n",
       "Yr-Date Rank        0\n",
       "Last Week Rank      0\n",
       "Title               0\n",
       "Type                0\n",
       "Netflix Excl.       0\n",
       "Netflix Date        0\n",
       "Days In Top 10      0\n",
       "Viewership Score    0\n",
       "dtype: int64"
      ]
     },
     "execution_count": 14,
     "metadata": {},
     "output_type": "execute_result"
    }
   ],
   "source": [
    "df.isnull().sum()"
   ]
  },
  {
   "cell_type": "code",
   "execution_count": 15,
   "id": "16a8793a",
   "metadata": {},
   "outputs": [
    {
     "data": {
      "text/plain": [
       "Yes    4599\n",
       "NA     2501\n",
       "Name: Netflix Excl., dtype: int64"
      ]
     },
     "execution_count": 15,
     "metadata": {},
     "output_type": "execute_result"
    }
   ],
   "source": [
    "df['Netflix Excl.'].value_counts()"
   ]
  },
  {
   "cell_type": "markdown",
   "id": "67fb3622",
   "metadata": {},
   "source": [
    "#### Null values have been removed "
   ]
  },
  {
   "cell_type": "markdown",
   "id": "d0528961",
   "metadata": {},
   "source": [
    "### 5) Replacing Values In A Column"
   ]
  },
  {
   "cell_type": "code",
   "execution_count": 16,
   "id": "c84fdd68",
   "metadata": {},
   "outputs": [
    {
     "data": {
      "text/plain": [
       "-     859\n",
       "1     708\n",
       "2     708\n",
       "3     706\n",
       "4     705\n",
       "5     699\n",
       "6     675\n",
       "7     633\n",
       "8     554\n",
       "9     481\n",
       "10    372\n",
       "Name: Yr-Date Rank, dtype: int64"
      ]
     },
     "execution_count": 16,
     "metadata": {},
     "output_type": "execute_result"
    }
   ],
   "source": [
    "df['Yr-Date Rank'].value_counts()"
   ]
  },
  {
   "cell_type": "code",
   "execution_count": 17,
   "id": "87714c72",
   "metadata": {
    "scrolled": true
   },
   "outputs": [
    {
     "data": {
      "text/plain": [
       "0     859\n",
       "1     708\n",
       "2     708\n",
       "3     706\n",
       "4     705\n",
       "5     699\n",
       "6     675\n",
       "7     633\n",
       "8     554\n",
       "9     481\n",
       "10    372\n",
       "Name: Yr-Date Rank, dtype: int64"
      ]
     },
     "execution_count": 17,
     "metadata": {},
     "output_type": "execute_result"
    }
   ],
   "source": [
    "df['Yr-Date Rank']=df['Yr-Date Rank'].replace({'-':0})\n",
    "df['Yr-Date Rank'].value_counts()"
   ]
  },
  {
   "cell_type": "code",
   "execution_count": 18,
   "id": "53f7985e",
   "metadata": {},
   "outputs": [
    {
     "data": {
      "text/plain": [
       "-     3968\n",
       "1      653\n",
       "2      564\n",
       "3      452\n",
       "4      336\n",
       "5      282\n",
       "6      240\n",
       "7      193\n",
       "8      167\n",
       "9      133\n",
       "10     112\n",
       "Name: Last Week Rank, dtype: int64"
      ]
     },
     "execution_count": 18,
     "metadata": {},
     "output_type": "execute_result"
    }
   ],
   "source": [
    "df['Last Week Rank'].value_counts()"
   ]
  },
  {
   "cell_type": "code",
   "execution_count": 19,
   "id": "b371db9b",
   "metadata": {},
   "outputs": [
    {
     "data": {
      "text/plain": [
       "0     3968\n",
       "1      653\n",
       "2      564\n",
       "3      452\n",
       "4      336\n",
       "5      282\n",
       "6      240\n",
       "7      193\n",
       "8      167\n",
       "9      133\n",
       "10     112\n",
       "Name: Last Week Rank, dtype: int64"
      ]
     },
     "execution_count": 19,
     "metadata": {},
     "output_type": "execute_result"
    }
   ],
   "source": [
    "df['Last Week Rank']=df['Last Week Rank'].replace({'-':0})\n",
    "df['Last Week Rank'].value_counts()"
   ]
  },
  {
   "cell_type": "markdown",
   "id": "3f0f3157",
   "metadata": {},
   "source": [
    "### 6) Converting Datatypes Of Columns"
   ]
  },
  {
   "cell_type": "code",
   "execution_count": 20,
   "id": "906723d3",
   "metadata": {},
   "outputs": [
    {
     "data": {
      "text/plain": [
       "As of               object\n",
       "Rank                 int64\n",
       "Yr-Date Rank        object\n",
       "Last Week Rank      object\n",
       "Title               object\n",
       "Type                object\n",
       "Netflix Excl.       object\n",
       "Netflix Date        object\n",
       "Days In Top 10       int64\n",
       "Viewership Score     int64\n",
       "dtype: object"
      ]
     },
     "execution_count": 20,
     "metadata": {},
     "output_type": "execute_result"
    }
   ],
   "source": [
    "df.dtypes"
   ]
  },
  {
   "cell_type": "code",
   "execution_count": 21,
   "id": "7c4e806a",
   "metadata": {},
   "outputs": [],
   "source": [
    "df['Last Week Rank']=df['Last Week Rank'].astype('int64')\n",
    "df['Yr-Date Rank']=df['Yr-Date Rank'].astype('int64')"
   ]
  },
  {
   "cell_type": "code",
   "execution_count": 22,
   "id": "be4d911d",
   "metadata": {},
   "outputs": [],
   "source": [
    "df['As of']=pd.to_datetime(df['As of'])\n",
    "df['Netflix Date']=pd.to_datetime(df['Netflix Date'])"
   ]
  },
  {
   "cell_type": "code",
   "execution_count": 23,
   "id": "f5e4923f",
   "metadata": {},
   "outputs": [
    {
     "data": {
      "text/plain": [
       "As of               datetime64[ns]\n",
       "Rank                         int64\n",
       "Yr-Date Rank                 int64\n",
       "Last Week Rank               int64\n",
       "Title                       object\n",
       "Type                        object\n",
       "Netflix Excl.               object\n",
       "Netflix Date        datetime64[ns]\n",
       "Days In Top 10               int64\n",
       "Viewership Score             int64\n",
       "dtype: object"
      ]
     },
     "execution_count": 23,
     "metadata": {},
     "output_type": "execute_result"
    }
   ],
   "source": [
    "df.dtypes"
   ]
  },
  {
   "cell_type": "markdown",
   "id": "691cec10",
   "metadata": {},
   "source": [
    "### 7) Visualization"
   ]
  },
  {
   "cell_type": "markdown",
   "id": "15792cb4",
   "metadata": {},
   "source": [
    "### a) Represent Yr-Date rank on a count plot"
   ]
  },
  {
   "cell_type": "code",
   "execution_count": 24,
   "id": "d6eb0ebe",
   "metadata": {},
   "outputs": [
    {
     "name": "stderr",
     "output_type": "stream",
     "text": [
      "C:\\Users\\niksm\\anaconda3\\lib\\site-packages\\seaborn\\_decorators.py:36: FutureWarning: Pass the following variable as a keyword arg: x. From version 0.12, the only valid positional argument will be `data`, and passing other arguments without an explicit keyword will result in an error or misinterpretation.\n",
      "  warnings.warn(\n"
     ]
    },
    {
     "data": {
      "image/png": "[encoded data removed]",
      "text/plain": [
       "<Figure size 432x288 with 1 Axes>"
      ]
     },
     "metadata": {
      "needs_background": "light"
     },
     "output_type": "display_data"
    }
   ],
   "source": [
    "sns.countplot(df['Yr-Date Rank'])\n",
    "plt.show()"
   ]
  },
  {
   "cell_type": "markdown",
   "id": "9606edd4",
   "metadata": {},
   "source": [
    "### b) Depict five point summary of 'Last Week Rank' greater than 7"
   ]
  },
  {
   "cell_type": "code",
   "execution_count": 25,
   "id": "8625789a",
   "metadata": {},
   "outputs": [
    {
     "name": "stdout",
     "output_type": "stream",
     "text": [
      "(412, 10)\n"
     ]
    },
    {
     "data": {
      "text/html": [
       "<div>\n",
       "<style scoped>\n",
       "    .dataframe tbody tr th:only-of-type {\n",
       "        vertical-align: middle;\n",
       "    }\n",
       "\n",
       "    .dataframe tbody tr th {\n",
       "        vertical-align: top;\n",
       "    }\n",
       "\n",
       "    .dataframe thead th {\n",
       "        text-align: right;\n",
       "    }\n",
       "</style>\n",
       "<table border=\"1\" class=\"dataframe\">\n",
       "  <thead>\n",
       "    <tr style=\"text-align: right;\">\n",
       "      <th></th>\n",
       "      <th>As of</th>\n",
       "      <th>Rank</th>\n",
       "      <th>Yr-Date Rank</th>\n",
       "      <th>Last Week Rank</th>\n",
       "      <th>Title</th>\n",
       "      <th>Type</th>\n",
       "      <th>Netflix Excl.</th>\n",
       "      <th>Netflix Date</th>\n",
       "      <th>Days In Top 10</th>\n",
       "      <th>Viewership Score</th>\n",
       "    </tr>\n",
       "  </thead>\n",
       "  <tbody>\n",
       "    <tr>\n",
       "      <th>109</th>\n",
       "      <td>2020-04-11</td>\n",
       "      <td>10</td>\n",
       "      <td>9</td>\n",
       "      <td>8</td>\n",
       "      <td>Nailed It!</td>\n",
       "      <td>TV Show</td>\n",
       "      <td>Yes</td>\n",
       "      <td>2018-03-09</td>\n",
       "      <td>10</td>\n",
       "      <td>33</td>\n",
       "    </tr>\n",
       "    <tr>\n",
       "      <th>113</th>\n",
       "      <td>2020-04-12</td>\n",
       "      <td>4</td>\n",
       "      <td>3</td>\n",
       "      <td>9</td>\n",
       "      <td>Angel Has Fallen</td>\n",
       "      <td>Movie</td>\n",
       "      <td>NA</td>\n",
       "      <td>2020-04-04</td>\n",
       "      <td>8</td>\n",
       "      <td>51</td>\n",
       "    </tr>\n",
       "    <tr>\n",
       "      <th>139</th>\n",
       "      <td>2020-04-14</td>\n",
       "      <td>10</td>\n",
       "      <td>0</td>\n",
       "      <td>10</td>\n",
       "      <td>Legacies</td>\n",
       "      <td>TV Show</td>\n",
       "      <td>NA</td>\n",
       "      <td>2019-04-05</td>\n",
       "      <td>7</td>\n",
       "      <td>15</td>\n",
       "    </tr>\n",
       "    <tr>\n",
       "      <th>253</th>\n",
       "      <td>2020-04-26</td>\n",
       "      <td>4</td>\n",
       "      <td>5</td>\n",
       "      <td>9</td>\n",
       "      <td>Waco</td>\n",
       "      <td>TV Show</td>\n",
       "      <td>NA</td>\n",
       "      <td>2020-04-16</td>\n",
       "      <td>8</td>\n",
       "      <td>48</td>\n",
       "    </tr>\n",
       "    <tr>\n",
       "      <th>379</th>\n",
       "      <td>2020-05-08</td>\n",
       "      <td>10</td>\n",
       "      <td>0</td>\n",
       "      <td>9</td>\n",
       "      <td>Ozark</td>\n",
       "      <td>TV Show</td>\n",
       "      <td>Yes</td>\n",
       "      <td>2017-07-21</td>\n",
       "      <td>37</td>\n",
       "      <td>247</td>\n",
       "    </tr>\n",
       "  </tbody>\n",
       "</table>\n",
       "</div>"
      ],
      "text/plain": [
       "         As of  Rank  Yr-Date Rank  Last Week Rank             Title     Type  \\\n",
       "109 2020-04-11    10             9               8        Nailed It!  TV Show   \n",
       "113 2020-04-12     4             3               9  Angel Has Fallen    Movie   \n",
       "139 2020-04-14    10             0              10          Legacies  TV Show   \n",
       "253 2020-04-26     4             5               9              Waco  TV Show   \n",
       "379 2020-05-08    10             0               9             Ozark  TV Show   \n",
       "\n",
       "    Netflix Excl. Netflix Date  Days In Top 10  Viewership Score  \n",
       "109           Yes   2018-03-09              10                33  \n",
       "113            NA   2020-04-04               8                51  \n",
       "139            NA   2019-04-05               7                15  \n",
       "253            NA   2020-04-16               8                48  \n",
       "379           Yes   2017-07-21              37               247  "
      ]
     },
     "execution_count": 25,
     "metadata": {},
     "output_type": "execute_result"
    }
   ],
   "source": [
    "a=df[df['Last Week Rank']>7]\n",
    "print(a.shape)\n",
    "a.head()"
   ]
  },
  {
   "cell_type": "code",
   "execution_count": 26,
   "id": "883c0733",
   "metadata": {},
   "outputs": [
    {
     "name": "stderr",
     "output_type": "stream",
     "text": [
      "C:\\Users\\niksm\\anaconda3\\lib\\site-packages\\seaborn\\_decorators.py:36: FutureWarning: Pass the following variable as a keyword arg: x. From version 0.12, the only valid positional argument will be `data`, and passing other arguments without an explicit keyword will result in an error or misinterpretation.\n",
      "  warnings.warn(\n"
     ]
    },
    {
     "data": {
      "image/png": "[encoded data removed]",
      "text/plain": [
       "<Figure size 432x288 with 1 Axes>"
      ]
     },
     "metadata": {
      "needs_background": "light"
     },
     "output_type": "display_data"
    }
   ],
   "source": [
    "sns.boxplot(df['Last Week Rank'],color='yellow')\n",
    "plt.show()"
   ]
  },
  {
   "cell_type": "markdown",
   "id": "a94e248c",
   "metadata": {},
   "source": [
    "### 8) a) Outlier Handling"
   ]
  },
  {
   "cell_type": "markdown",
   "id": "863d5506",
   "metadata": {},
   "source": [
    "### Let us consider the column of Viewership Score"
   ]
  },
  {
   "cell_type": "code",
   "execution_count": 27,
   "id": "084c46b0",
   "metadata": {},
   "outputs": [
    {
     "name": "stdout",
     "output_type": "stream",
     "text": [
      "19.0\n",
      "50.0\n",
      "128.0\n",
      "109.0\n",
      "291.5\n",
      "-144.5\n"
     ]
    }
   ],
   "source": [
    "q1=df['Viewership Score'].quantile(0.25)\n",
    "q2=df['Viewership Score'].quantile(0.5)\n",
    "q3=df['Viewership Score'].quantile(0.75)\n",
    "iqr=q3-q1\n",
    "df_max=q3+(1.5*iqr)\n",
    "df_min=q1-(1.5*iqr)\n",
    "print(q1)\n",
    "print(q2)\n",
    "print(q3)\n",
    "print(iqr)\n",
    "print(df_max)\n",
    "print(df_min)"
   ]
  },
  {
   "cell_type": "code",
   "execution_count": 28,
   "id": "2fd79da7",
   "metadata": {},
   "outputs": [
    {
     "name": "stderr",
     "output_type": "stream",
     "text": [
      "C:\\Users\\niksm\\anaconda3\\lib\\site-packages\\seaborn\\_decorators.py:36: FutureWarning: Pass the following variable as a keyword arg: x. From version 0.12, the only valid positional argument will be `data`, and passing other arguments without an explicit keyword will result in an error or misinterpretation.\n",
      "  warnings.warn(\n"
     ]
    },
    {
     "data": {
      "image/png": "[encoded data removed]",
      "text/plain": [
       "<Figure size 432x288 with 1 Axes>"
      ]
     },
     "metadata": {
      "needs_background": "light"
     },
     "output_type": "display_data"
    }
   ],
   "source": [
    "sns.boxplot(df['Viewership Score'],color='red')\n",
    "plt.show()"
   ]
  },
  {
   "cell_type": "markdown",
   "id": "20af8d49",
   "metadata": {},
   "source": [
    "***For the attribute 'Viewership Score', the five point summary shows that minimum is -144.5 and maximum is 291.5. \n",
    "Since Viewership Score has positive numerical values only, so the outliers lie beyond max(291.5) as can be seen in the above boxplot.***"
   ]
  },
  {
   "cell_type": "markdown",
   "id": "34223832",
   "metadata": {},
   "source": [
    "### b) Outlier Treatment"
   ]
  },
  {
   "cell_type": "code",
   "execution_count": 29,
   "id": "bf4c3225",
   "metadata": {},
   "outputs": [],
   "source": [
    "ot=df['Viewership Score'].clip(upper=df_max,inplace=True)\n",
    "ot"
   ]
  },
  {
   "cell_type": "code",
   "execution_count": 30,
   "id": "e24ee7c7",
   "metadata": {},
   "outputs": [
    {
     "name": "stderr",
     "output_type": "stream",
     "text": [
      "C:\\Users\\niksm\\anaconda3\\lib\\site-packages\\seaborn\\_decorators.py:36: FutureWarning: Pass the following variable as a keyword arg: x. From version 0.12, the only valid positional argument will be `data`, and passing other arguments without an explicit keyword will result in an error or misinterpretation.\n",
      "  warnings.warn(\n"
     ]
    },
    {
     "data": {
      "image/png": "[encoded data removed]",
      "text/plain": [
       "<Figure size 432x288 with 1 Axes>"
      ]
     },
     "metadata": {
      "needs_background": "light"
     },
     "output_type": "display_data"
    }
   ],
   "source": [
    "sns.boxplot(df['Viewership Score'],color='cyan')\n",
    "plt.show()"
   ]
  },
  {
   "cell_type": "markdown",
   "id": "6d4ac381",
   "metadata": {},
   "source": [
    "***We handle the outliers by replacing the outlier values with that of maximum in the column 'Viewership Score' \n",
    "as performed above***"
   ]
  },
  {
   "cell_type": "markdown",
   "id": "8a1d4779",
   "metadata": {},
   "source": [
    "### 9) Missing Values"
   ]
  },
  {
   "cell_type": "code",
   "execution_count": 31,
   "id": "6ca24ebc",
   "metadata": {},
   "outputs": [
    {
     "data": {
      "text/plain": [
       "As of               0\n",
       "Rank                0\n",
       "Yr-Date Rank        0\n",
       "Last Week Rank      0\n",
       "Title               0\n",
       "Type                0\n",
       "Netflix Excl.       0\n",
       "Netflix Date        0\n",
       "Days In Top 10      0\n",
       "Viewership Score    0\n",
       "dtype: int64"
      ]
     },
     "execution_count": 31,
     "metadata": {},
     "output_type": "execute_result"
    }
   ],
   "source": [
    "df.isna().sum()"
   ]
  },
  {
   "cell_type": "markdown",
   "id": "0d636162",
   "metadata": {},
   "source": [
    "#### There are no missing values in our dataset as well"
   ]
  },
  {
   "cell_type": "markdown",
   "id": "7f3abc8b",
   "metadata": {},
   "source": [
    "### 10) Other Insights And Analysis"
   ]
  },
  {
   "cell_type": "markdown",
   "id": "33c9e737",
   "metadata": {},
   "source": [
    "### a) Display performance of Type (or genre) on a count plot"
   ]
  },
  {
   "cell_type": "code",
   "execution_count": 32,
   "id": "b41b955f",
   "metadata": {},
   "outputs": [
    {
     "data": {
      "text/plain": [
       "TV Show            4446\n",
       "Movie              2611\n",
       "Stand-Up Comedy      41\n",
       "Concert/Perf…         2\n",
       "Name: Type, dtype: int64"
      ]
     },
     "execution_count": 32,
     "metadata": {},
     "output_type": "execute_result"
    }
   ],
   "source": [
    "a=df['Type'].value_counts()\n",
    "a"
   ]
  },
  {
   "cell_type": "code",
   "execution_count": 33,
   "id": "eabac99f",
   "metadata": {},
   "outputs": [
    {
     "data": {
      "image/png": "[encoded data removed]",
      "text/plain": [
       "<Figure size 432x288 with 1 Axes>"
      ]
     },
     "metadata": {
      "needs_background": "light"
     },
     "output_type": "display_data"
    }
   ],
   "source": [
    "sns.countplot(x=df['Type'],palette=['orange','black','red','darkblue'])\n",
    "plt.ylabel('Count of Genre')\n",
    "plt.xticks(rotation=30)\n",
    "plt.show()"
   ]
  },
  {
   "cell_type": "markdown",
   "id": "5f3b86e0",
   "metadata": {},
   "source": [
    "#### TV shows was the first choice of viewers followed by movies (with possible reason being their short duration) in Netflix"
   ]
  },
  {
   "cell_type": "markdown",
   "id": "772fad22",
   "metadata": {},
   "source": [
    "###  b) The  most watched  'Title' basis 'Days in Top 10'"
   ]
  },
  {
   "cell_type": "code",
   "execution_count": 34,
   "id": "3ecf8c6f",
   "metadata": {
    "scrolled": true
   },
   "outputs": [
    {
     "data": {
      "text/plain": [
       "Title\n",
       "Cocomelon                     428\n",
       "Ozark                          89\n",
       "Cobra Kai                      81\n",
       "Manifest                       80\n",
       "The Queenâs Gambit           73\n",
       "                             ... \n",
       "Dark Shadows                    1\n",
       "Elves                           1\n",
       "Rango                           1\n",
       "One on One                      1\n",
       "Jojoâs Bizarre Adventure      1\n",
       "Name: Days In Top 10, Length: 645, dtype: int64"
      ]
     },
     "execution_count": 34,
     "metadata": {},
     "output_type": "execute_result"
    }
   ],
   "source": [
    "b=df.groupby(['Title'])['Days In Top 10'].max().sort_values(ascending=False)\n",
    "b"
   ]
  },
  {
   "cell_type": "markdown",
   "id": "8cd8cfc4",
   "metadata": {},
   "source": [
    "#### Among the 645 titles, COCOMELON  is the most popular appearing 428 times and the only one beyond 100 times"
   ]
  },
  {
   "cell_type": "markdown",
   "id": "a188ebe0",
   "metadata": {},
   "source": [
    "### c) Percentage distribution in 'Viewership Score' where frequency of viewing is of 60 or above"
   ]
  },
  {
   "cell_type": "code",
   "execution_count": 35,
   "id": "1c29d038",
   "metadata": {},
   "outputs": [
    {
     "data": {
      "text/plain": [
       "Title\n",
       "Cocomelon                     428\n",
       "Ozark                          89\n",
       "Cobra Kai                      81\n",
       "Manifest                       80\n",
       "The Queenâs Gambit           73\n",
       "                             ... \n",
       "Dark Shadows                    1\n",
       "Elves                           1\n",
       "Rango                           1\n",
       "One on One                      1\n",
       "Jojoâs Bizarre Adventure      1\n",
       "Name: Days In Top 10, Length: 645, dtype: int64"
      ]
     },
     "execution_count": 35,
     "metadata": {},
     "output_type": "execute_result"
    }
   ],
   "source": [
    "c=b[b>60]\n",
    "b"
   ]
  },
  {
   "cell_type": "code",
   "execution_count": 36,
   "id": "fcba926e",
   "metadata": {},
   "outputs": [
    {
     "name": "stderr",
     "output_type": "stream",
     "text": [
      "C:\\Users\\niksm\\anaconda3\\lib\\site-packages\\matplotlib\\backends\\backend_agg.py:240: RuntimeWarning: Glyph 128 missing from current font.\n",
      "  font.set_text(s, 0.0, flags=flags)\n",
      "C:\\Users\\niksm\\anaconda3\\lib\\site-packages\\matplotlib\\backends\\backend_agg.py:240: RuntimeWarning: Glyph 153 missing from current font.\n",
      "  font.set_text(s, 0.0, flags=flags)\n",
      "C:\\Users\\niksm\\anaconda3\\lib\\site-packages\\matplotlib\\backends\\backend_agg.py:203: RuntimeWarning: Glyph 128 missing from current font.\n",
      "  font.set_text(s, 0, flags=flags)\n",
      "C:\\Users\\niksm\\anaconda3\\lib\\site-packages\\matplotlib\\backends\\backend_agg.py:203: RuntimeWarning: Glyph 153 missing from current font.\n",
      "  font.set_text(s, 0, flags=flags)\n"
     ]
    },
    {
     "data": {
      "image/png": "[encoded data removed]",
      "text/plain": [
       "<Figure size 432x504 with 1 Axes>"
      ]
     },
     "metadata": {},
     "output_type": "display_data"
    }
   ],
   "source": [
    "plt.figure(figsize=(6,7))\n",
    "plt.pie(c.values,labels=c.index,autopct='%.2f%%',shadow=True,explode=(0.1,0.2,0.1,0.1,0.3,0.2,0.1,0.1))\n",
    "plt.show()"
   ]
  },
  {
   "cell_type": "markdown",
   "id": "44f0bfcc",
   "metadata": {},
   "source": [
    "#### The pie chart explains that approxiately 44.82% viewership is occupied by Cocomelon and Ozark is second with 9.32%\n"
   ]
  },
  {
   "cell_type": "markdown",
   "id": "24ac16a1",
   "metadata": {},
   "source": [
    "### d) Depict the distribution of Rank vs Type "
   ]
  },
  {
   "cell_type": "code",
   "execution_count": 37,
   "id": "95c5632b",
   "metadata": {},
   "outputs": [
    {
     "data": {
      "text/plain": [
       "Rank  Type           \n",
       "1     TV Show            494\n",
       "      Movie              216\n",
       "2     TV Show            475\n",
       "      Movie              230\n",
       "      Stand-Up Comedy      4\n",
       "      Concert/Perf…        1\n",
       "3     TV Show            430\n",
       "      Movie              270\n",
       "      Stand-Up Comedy     10\n",
       "4     TV Show            432\n",
       "      Movie              271\n",
       "      Stand-Up Comedy      7\n",
       "5     TV Show            423\n",
       "      Movie              283\n",
       "      Stand-Up Comedy      3\n",
       "      Concert/Perf…        1\n",
       "6     TV Show            442\n",
       "      Movie              266\n",
       "      Stand-Up Comedy      2\n",
       "7     TV Show            437\n",
       "      Movie              271\n",
       "      Stand-Up Comedy      2\n",
       "8     TV Show            435\n",
       "      Movie              270\n",
       "      Stand-Up Comedy      5\n",
       "9     TV Show            441\n",
       "      Movie              265\n",
       "      Stand-Up Comedy      4\n",
       "10    TV Show            437\n",
       "      Movie              269\n",
       "      Stand-Up Comedy      4\n",
       "Name: Type, dtype: int64"
      ]
     },
     "execution_count": 37,
     "metadata": {},
     "output_type": "execute_result"
    }
   ],
   "source": [
    "f=df.groupby(['Rank'])['Type'].value_counts()\n",
    "f"
   ]
  },
  {
   "cell_type": "code",
   "execution_count": 38,
   "id": "2ae08a30",
   "metadata": {},
   "outputs": [
    {
     "data": {
      "text/plain": [
       "<Figure size 288x360 with 0 Axes>"
      ]
     },
     "metadata": {},
     "output_type": "display_data"
    },
    {
     "data": {
      "image/png": "[encoded data removed]",
      "text/plain": [
       "<Figure size 360x360 with 2 Axes>"
      ]
     },
     "metadata": {
      "needs_background": "light"
     },
     "output_type": "display_data"
    }
   ],
   "source": [
    "plt.figure(figsize=(4,5))\n",
    "sns.displot(x=df['Rank'],y=df['Type'],cbar=True,color='purple')\n",
    "plt.xticks(rotation=45)\n",
    "plt.show()"
   ]
  },
  {
   "cell_type": "markdown",
   "id": "aa8de5b7",
   "metadata": {},
   "source": [
    "#### The latest observation is that TV SHOWS have dominated at every rank due to strength in numbers as well "
   ]
  },
  {
   "cell_type": "markdown",
   "id": "3d7c77db",
   "metadata": {},
   "source": [
    "### e) Descriptive Analysis"
   ]
  },
  {
   "cell_type": "code",
   "execution_count": 39,
   "id": "9f1b5326",
   "metadata": {
    "scrolled": true
   },
   "outputs": [
    {
     "data": {
      "text/html": [
       "<div>\n",
       "<style scoped>\n",
       "    .dataframe tbody tr th:only-of-type {\n",
       "        vertical-align: middle;\n",
       "    }\n",
       "\n",
       "    .dataframe tbody tr th {\n",
       "        vertical-align: top;\n",
       "    }\n",
       "\n",
       "    .dataframe thead th {\n",
       "        text-align: right;\n",
       "    }\n",
       "</style>\n",
       "<table border=\"1\" class=\"dataframe\">\n",
       "  <thead>\n",
       "    <tr style=\"text-align: right;\">\n",
       "      <th></th>\n",
       "      <th>Rank</th>\n",
       "      <th>Yr-Date Rank</th>\n",
       "      <th>Last Week Rank</th>\n",
       "      <th>Days In Top 10</th>\n",
       "      <th>Viewership Score</th>\n",
       "    </tr>\n",
       "  </thead>\n",
       "  <tbody>\n",
       "    <tr>\n",
       "      <th>count</th>\n",
       "      <td>7100.000000</td>\n",
       "      <td>7100.000000</td>\n",
       "      <td>7100.000000</td>\n",
       "      <td>7100.000000</td>\n",
       "      <td>7100.000000</td>\n",
       "    </tr>\n",
       "    <tr>\n",
       "      <th>mean</th>\n",
       "      <td>5.500000</td>\n",
       "      <td>4.439296</td>\n",
       "      <td>1.737324</td>\n",
       "      <td>24.123662</td>\n",
       "      <td>88.546901</td>\n",
       "    </tr>\n",
       "    <tr>\n",
       "      <th>std</th>\n",
       "      <td>2.872484</td>\n",
       "      <td>3.041267</td>\n",
       "      <td>2.620020</td>\n",
       "      <td>58.473789</td>\n",
       "      <td>92.350549</td>\n",
       "    </tr>\n",
       "    <tr>\n",
       "      <th>min</th>\n",
       "      <td>1.000000</td>\n",
       "      <td>0.000000</td>\n",
       "      <td>0.000000</td>\n",
       "      <td>1.000000</td>\n",
       "      <td>1.000000</td>\n",
       "    </tr>\n",
       "    <tr>\n",
       "      <th>25%</th>\n",
       "      <td>3.000000</td>\n",
       "      <td>2.000000</td>\n",
       "      <td>0.000000</td>\n",
       "      <td>3.000000</td>\n",
       "      <td>19.000000</td>\n",
       "    </tr>\n",
       "    <tr>\n",
       "      <th>50%</th>\n",
       "      <td>5.500000</td>\n",
       "      <td>4.000000</td>\n",
       "      <td>0.000000</td>\n",
       "      <td>7.000000</td>\n",
       "      <td>50.000000</td>\n",
       "    </tr>\n",
       "    <tr>\n",
       "      <th>75%</th>\n",
       "      <td>8.000000</td>\n",
       "      <td>7.000000</td>\n",
       "      <td>3.000000</td>\n",
       "      <td>18.000000</td>\n",
       "      <td>128.000000</td>\n",
       "    </tr>\n",
       "    <tr>\n",
       "      <th>max</th>\n",
       "      <td>10.000000</td>\n",
       "      <td>10.000000</td>\n",
       "      <td>10.000000</td>\n",
       "      <td>428.000000</td>\n",
       "      <td>291.500000</td>\n",
       "    </tr>\n",
       "  </tbody>\n",
       "</table>\n",
       "</div>"
      ],
      "text/plain": [
       "              Rank  Yr-Date Rank  Last Week Rank  Days In Top 10  \\\n",
       "count  7100.000000   7100.000000     7100.000000     7100.000000   \n",
       "mean      5.500000      4.439296        1.737324       24.123662   \n",
       "std       2.872484      3.041267        2.620020       58.473789   \n",
       "min       1.000000      0.000000        0.000000        1.000000   \n",
       "25%       3.000000      2.000000        0.000000        3.000000   \n",
       "50%       5.500000      4.000000        0.000000        7.000000   \n",
       "75%       8.000000      7.000000        3.000000       18.000000   \n",
       "max      10.000000     10.000000       10.000000      428.000000   \n",
       "\n",
       "       Viewership Score  \n",
       "count       7100.000000  \n",
       "mean          88.546901  \n",
       "std           92.350549  \n",
       "min            1.000000  \n",
       "25%           19.000000  \n",
       "50%           50.000000  \n",
       "75%          128.000000  \n",
       "max          291.500000  "
      ]
     },
     "execution_count": 39,
     "metadata": {},
     "output_type": "execute_result"
    }
   ],
   "source": [
    "ds=df.describe()\n",
    "ds"
   ]
  },
  {
   "cell_type": "markdown",
   "id": "5bb7e950",
   "metadata": {},
   "source": [
    "#### This means that:\n",
    "***1) The best rank a title/show has recieved is 1 and lowest is 10.***<br>\n",
    "***2) The minimum no. of days any title was in Top 10 in Netflix is 1 and maximum is 428 days.***<br>\n",
    "***3) Similarly, the lowest viewership score is 1 and max is 1474.***"
   ]
  },
  {
   "cell_type": "code",
   "execution_count": 40,
   "id": "36f67b90",
   "metadata": {},
   "outputs": [
    {
     "data": {
      "image/png": "[encoded data removed]",
      "text/plain": [
       "<Figure size 432x288 with 1 Axes>"
      ]
     },
     "metadata": {
      "needs_background": "light"
     },
     "output_type": "display_data"
    }
   ],
   "source": [
    "plt.hist(df['Viewership Score'],color='brown')\n",
    "plt.grid(True)\n",
    "plt.show()"
   ]
  },
  {
   "cell_type": "code",
   "execution_count": 41,
   "id": "ffdff895",
   "metadata": {},
   "outputs": [
    {
     "name": "stderr",
     "output_type": "stream",
     "text": [
      "C:\\Users\\niksm\\AppData\\Local\\Temp/ipykernel_9108/2219736383.py:1: FutureWarning: Treating datetime data as categorical rather than numeric in `.describe` is deprecated and will be removed in a future version of pandas. Specify `datetime_is_numeric=True` to silence this warning and adopt the future behavior now.\n",
      "  z1=df.describe(include='all')\n"
     ]
    },
    {
     "data": {
      "text/html": [
       "<div>\n",
       "<style scoped>\n",
       "    .dataframe tbody tr th:only-of-type {\n",
       "        vertical-align: middle;\n",
       "    }\n",
       "\n",
       "    .dataframe tbody tr th {\n",
       "        vertical-align: top;\n",
       "    }\n",
       "\n",
       "    .dataframe thead th {\n",
       "        text-align: right;\n",
       "    }\n",
       "</style>\n",
       "<table border=\"1\" class=\"dataframe\">\n",
       "  <thead>\n",
       "    <tr style=\"text-align: right;\">\n",
       "      <th></th>\n",
       "      <th>As of</th>\n",
       "      <th>Rank</th>\n",
       "      <th>Yr-Date Rank</th>\n",
       "      <th>Last Week Rank</th>\n",
       "      <th>Title</th>\n",
       "      <th>Type</th>\n",
       "      <th>Netflix Excl.</th>\n",
       "      <th>Netflix Date</th>\n",
       "      <th>Days In Top 10</th>\n",
       "      <th>Viewership Score</th>\n",
       "    </tr>\n",
       "  </thead>\n",
       "  <tbody>\n",
       "    <tr>\n",
       "      <th>count</th>\n",
       "      <td>7100</td>\n",
       "      <td>7100.000000</td>\n",
       "      <td>7100.000000</td>\n",
       "      <td>7100.000000</td>\n",
       "      <td>7100</td>\n",
       "      <td>7100</td>\n",
       "      <td>7100</td>\n",
       "      <td>7100</td>\n",
       "      <td>7100.000000</td>\n",
       "      <td>7100.000000</td>\n",
       "    </tr>\n",
       "    <tr>\n",
       "      <th>unique</th>\n",
       "      <td>710</td>\n",
       "      <td>NaN</td>\n",
       "      <td>NaN</td>\n",
       "      <td>NaN</td>\n",
       "      <td>645</td>\n",
       "      <td>4</td>\n",
       "      <td>2</td>\n",
       "      <td>414</td>\n",
       "      <td>NaN</td>\n",
       "      <td>NaN</td>\n",
       "    </tr>\n",
       "    <tr>\n",
       "      <th>top</th>\n",
       "      <td>2020-04-01 00:00:00</td>\n",
       "      <td>NaN</td>\n",
       "      <td>NaN</td>\n",
       "      <td>NaN</td>\n",
       "      <td>Cocomelon</td>\n",
       "      <td>TV Show</td>\n",
       "      <td>Yes</td>\n",
       "      <td>2020-06-01 00:00:00</td>\n",
       "      <td>NaN</td>\n",
       "      <td>NaN</td>\n",
       "    </tr>\n",
       "    <tr>\n",
       "      <th>freq</th>\n",
       "      <td>10</td>\n",
       "      <td>NaN</td>\n",
       "      <td>NaN</td>\n",
       "      <td>NaN</td>\n",
       "      <td>428</td>\n",
       "      <td>4446</td>\n",
       "      <td>4599</td>\n",
       "      <td>438</td>\n",
       "      <td>NaN</td>\n",
       "      <td>NaN</td>\n",
       "    </tr>\n",
       "    <tr>\n",
       "      <th>first</th>\n",
       "      <td>2020-04-01 00:00:00</td>\n",
       "      <td>NaN</td>\n",
       "      <td>NaN</td>\n",
       "      <td>NaN</td>\n",
       "      <td>NaN</td>\n",
       "      <td>NaN</td>\n",
       "      <td>NaN</td>\n",
       "      <td>2007-01-15 00:00:00</td>\n",
       "      <td>NaN</td>\n",
       "      <td>NaN</td>\n",
       "    </tr>\n",
       "    <tr>\n",
       "      <th>last</th>\n",
       "      <td>2022-03-11 00:00:00</td>\n",
       "      <td>NaN</td>\n",
       "      <td>NaN</td>\n",
       "      <td>NaN</td>\n",
       "      <td>NaN</td>\n",
       "      <td>NaN</td>\n",
       "      <td>NaN</td>\n",
       "      <td>2022-03-04 00:00:00</td>\n",
       "      <td>NaN</td>\n",
       "      <td>NaN</td>\n",
       "    </tr>\n",
       "    <tr>\n",
       "      <th>mean</th>\n",
       "      <td>NaN</td>\n",
       "      <td>5.500000</td>\n",
       "      <td>4.439296</td>\n",
       "      <td>1.737324</td>\n",
       "      <td>NaN</td>\n",
       "      <td>NaN</td>\n",
       "      <td>NaN</td>\n",
       "      <td>NaN</td>\n",
       "      <td>24.123662</td>\n",
       "      <td>88.546901</td>\n",
       "    </tr>\n",
       "    <tr>\n",
       "      <th>std</th>\n",
       "      <td>NaN</td>\n",
       "      <td>2.872484</td>\n",
       "      <td>3.041267</td>\n",
       "      <td>2.620020</td>\n",
       "      <td>NaN</td>\n",
       "      <td>NaN</td>\n",
       "      <td>NaN</td>\n",
       "      <td>NaN</td>\n",
       "      <td>58.473789</td>\n",
       "      <td>92.350549</td>\n",
       "    </tr>\n",
       "    <tr>\n",
       "      <th>min</th>\n",
       "      <td>NaN</td>\n",
       "      <td>1.000000</td>\n",
       "      <td>0.000000</td>\n",
       "      <td>0.000000</td>\n",
       "      <td>NaN</td>\n",
       "      <td>NaN</td>\n",
       "      <td>NaN</td>\n",
       "      <td>NaN</td>\n",
       "      <td>1.000000</td>\n",
       "      <td>1.000000</td>\n",
       "    </tr>\n",
       "    <tr>\n",
       "      <th>25%</th>\n",
       "      <td>NaN</td>\n",
       "      <td>3.000000</td>\n",
       "      <td>2.000000</td>\n",
       "      <td>0.000000</td>\n",
       "      <td>NaN</td>\n",
       "      <td>NaN</td>\n",
       "      <td>NaN</td>\n",
       "      <td>NaN</td>\n",
       "      <td>3.000000</td>\n",
       "      <td>19.000000</td>\n",
       "    </tr>\n",
       "    <tr>\n",
       "      <th>50%</th>\n",
       "      <td>NaN</td>\n",
       "      <td>5.500000</td>\n",
       "      <td>4.000000</td>\n",
       "      <td>0.000000</td>\n",
       "      <td>NaN</td>\n",
       "      <td>NaN</td>\n",
       "      <td>NaN</td>\n",
       "      <td>NaN</td>\n",
       "      <td>7.000000</td>\n",
       "      <td>50.000000</td>\n",
       "    </tr>\n",
       "    <tr>\n",
       "      <th>75%</th>\n",
       "      <td>NaN</td>\n",
       "      <td>8.000000</td>\n",
       "      <td>7.000000</td>\n",
       "      <td>3.000000</td>\n",
       "      <td>NaN</td>\n",
       "      <td>NaN</td>\n",
       "      <td>NaN</td>\n",
       "      <td>NaN</td>\n",
       "      <td>18.000000</td>\n",
       "      <td>128.000000</td>\n",
       "    </tr>\n",
       "    <tr>\n",
       "      <th>max</th>\n",
       "      <td>NaN</td>\n",
       "      <td>10.000000</td>\n",
       "      <td>10.000000</td>\n",
       "      <td>10.000000</td>\n",
       "      <td>NaN</td>\n",
       "      <td>NaN</td>\n",
       "      <td>NaN</td>\n",
       "      <td>NaN</td>\n",
       "      <td>428.000000</td>\n",
       "      <td>291.500000</td>\n",
       "    </tr>\n",
       "  </tbody>\n",
       "</table>\n",
       "</div>"
      ],
      "text/plain": [
       "                      As of         Rank  Yr-Date Rank  Last Week Rank  \\\n",
       "count                  7100  7100.000000   7100.000000     7100.000000   \n",
       "unique                  710          NaN           NaN             NaN   \n",
       "top     2020-04-01 00:00:00          NaN           NaN             NaN   \n",
       "freq                     10          NaN           NaN             NaN   \n",
       "first   2020-04-01 00:00:00          NaN           NaN             NaN   \n",
       "last    2022-03-11 00:00:00          NaN           NaN             NaN   \n",
       "mean                    NaN     5.500000      4.439296        1.737324   \n",
       "std                     NaN     2.872484      3.041267        2.620020   \n",
       "min                     NaN     1.000000      0.000000        0.000000   \n",
       "25%                     NaN     3.000000      2.000000        0.000000   \n",
       "50%                     NaN     5.500000      4.000000        0.000000   \n",
       "75%                     NaN     8.000000      7.000000        3.000000   \n",
       "max                     NaN    10.000000     10.000000       10.000000   \n",
       "\n",
       "            Title     Type Netflix Excl.         Netflix Date  Days In Top 10  \\\n",
       "count        7100     7100          7100                 7100     7100.000000   \n",
       "unique        645        4             2                  414             NaN   \n",
       "top     Cocomelon  TV Show           Yes  2020-06-01 00:00:00             NaN   \n",
       "freq          428     4446          4599                  438             NaN   \n",
       "first         NaN      NaN           NaN  2007-01-15 00:00:00             NaN   \n",
       "last          NaN      NaN           NaN  2022-03-04 00:00:00             NaN   \n",
       "mean          NaN      NaN           NaN                  NaN       24.123662   \n",
       "std           NaN      NaN           NaN                  NaN       58.473789   \n",
       "min           NaN      NaN           NaN                  NaN        1.000000   \n",
       "25%           NaN      NaN           NaN                  NaN        3.000000   \n",
       "50%           NaN      NaN           NaN                  NaN        7.000000   \n",
       "75%           NaN      NaN           NaN                  NaN       18.000000   \n",
       "max           NaN      NaN           NaN                  NaN      428.000000   \n",
       "\n",
       "        Viewership Score  \n",
       "count        7100.000000  \n",
       "unique               NaN  \n",
       "top                  NaN  \n",
       "freq                 NaN  \n",
       "first                NaN  \n",
       "last                 NaN  \n",
       "mean           88.546901  \n",
       "std            92.350549  \n",
       "min             1.000000  \n",
       "25%            19.000000  \n",
       "50%            50.000000  \n",
       "75%           128.000000  \n",
       "max           291.500000  "
      ]
     },
     "execution_count": 41,
     "metadata": {},
     "output_type": "execute_result"
    }
   ],
   "source": [
    "z1=df.describe(include='all')\n",
    "z1"
   ]
  },
  {
   "cell_type": "markdown",
   "id": "39e63cad",
   "metadata": {},
   "source": [
    "***The above code shows all the details of the categorical and numerical columns. 'Include' in describe() allows for \n",
    "inclusion of categorical attributes along with numerical ones in five point summary or similar format***"
   ]
  },
  {
   "cell_type": "markdown",
   "id": "fe1651f2",
   "metadata": {},
   "source": [
    "### f) Checking for correlation between columns (if any)"
   ]
  },
  {
   "cell_type": "code",
   "execution_count": 42,
   "id": "e6a3c32a",
   "metadata": {},
   "outputs": [
    {
     "data": {
      "text/html": [
       "<div>\n",
       "<style scoped>\n",
       "    .dataframe tbody tr th:only-of-type {\n",
       "        vertical-align: middle;\n",
       "    }\n",
       "\n",
       "    .dataframe tbody tr th {\n",
       "        vertical-align: top;\n",
       "    }\n",
       "\n",
       "    .dataframe thead th {\n",
       "        text-align: right;\n",
       "    }\n",
       "</style>\n",
       "<table border=\"1\" class=\"dataframe\">\n",
       "  <thead>\n",
       "    <tr style=\"text-align: right;\">\n",
       "      <th></th>\n",
       "      <th>Rank</th>\n",
       "      <th>Yr-Date Rank</th>\n",
       "      <th>Last Week Rank</th>\n",
       "      <th>Days In Top 10</th>\n",
       "      <th>Viewership Score</th>\n",
       "    </tr>\n",
       "  </thead>\n",
       "  <tbody>\n",
       "    <tr>\n",
       "      <th>Rank</th>\n",
       "      <td>1.000000</td>\n",
       "      <td>0.607892</td>\n",
       "      <td>0.315619</td>\n",
       "      <td>0.156179</td>\n",
       "      <td>0.007036</td>\n",
       "    </tr>\n",
       "    <tr>\n",
       "      <th>Yr-Date Rank</th>\n",
       "      <td>0.607892</td>\n",
       "      <td>1.000000</td>\n",
       "      <td>0.332713</td>\n",
       "      <td>0.185010</td>\n",
       "      <td>0.121308</td>\n",
       "    </tr>\n",
       "    <tr>\n",
       "      <th>Last Week Rank</th>\n",
       "      <td>0.315619</td>\n",
       "      <td>0.332713</td>\n",
       "      <td>1.000000</td>\n",
       "      <td>0.463955</td>\n",
       "      <td>0.511232</td>\n",
       "    </tr>\n",
       "    <tr>\n",
       "      <th>Days In Top 10</th>\n",
       "      <td>0.156179</td>\n",
       "      <td>0.185010</td>\n",
       "      <td>0.463955</td>\n",
       "      <td>1.000000</td>\n",
       "      <td>0.630953</td>\n",
       "    </tr>\n",
       "    <tr>\n",
       "      <th>Viewership Score</th>\n",
       "      <td>0.007036</td>\n",
       "      <td>0.121308</td>\n",
       "      <td>0.511232</td>\n",
       "      <td>0.630953</td>\n",
       "      <td>1.000000</td>\n",
       "    </tr>\n",
       "  </tbody>\n",
       "</table>\n",
       "</div>"
      ],
      "text/plain": [
       "                      Rank  Yr-Date Rank  Last Week Rank  Days In Top 10  \\\n",
       "Rank              1.000000      0.607892        0.315619        0.156179   \n",
       "Yr-Date Rank      0.607892      1.000000        0.332713        0.185010   \n",
       "Last Week Rank    0.315619      0.332713        1.000000        0.463955   \n",
       "Days In Top 10    0.156179      0.185010        0.463955        1.000000   \n",
       "Viewership Score  0.007036      0.121308        0.511232        0.630953   \n",
       "\n",
       "                  Viewership Score  \n",
       "Rank                      0.007036  \n",
       "Yr-Date Rank              0.121308  \n",
       "Last Week Rank            0.511232  \n",
       "Days In Top 10            0.630953  \n",
       "Viewership Score          1.000000  "
      ]
     },
     "execution_count": 42,
     "metadata": {},
     "output_type": "execute_result"
    }
   ],
   "source": [
    "g=df.corr()\n",
    "g"
   ]
  },
  {
   "cell_type": "markdown",
   "id": "ccd47ed6",
   "metadata": {},
   "source": [
    "***Since correlation matrix lies between the range of -1 and 1, there is no negative correlation here as none of the values are\n",
    "negative. Furthur, the maximum value in positive zone which is less than 1 for any attribute is around 0.6.***"
   ]
  },
  {
   "cell_type": "code",
   "execution_count": 43,
   "id": "a2890ffc",
   "metadata": {},
   "outputs": [
    {
     "data": {
      "image/png": "[encoded data removed]",
      "text/plain": [
       "<Figure size 432x288 with 2 Axes>"
      ]
     },
     "metadata": {
      "needs_background": "light"
     },
     "output_type": "display_data"
    }
   ],
   "source": [
    "sns.heatmap(g,annot=True,cmap='Set2')\n",
    "plt.show()"
   ]
  },
  {
   "cell_type": "markdown",
   "id": "d2d69b04",
   "metadata": {},
   "source": [
    "### g) Top 15 movies based on Viewership score"
   ]
  },
  {
   "cell_type": "code",
   "execution_count": 44,
   "id": "31db41e9",
   "metadata": {},
   "outputs": [
    {
     "data": {
      "text/plain": [
       "Title\n",
       "365 Days                          213.0\n",
       "The Mitchells vs. The Machines    204.0\n",
       "Donât Look Up                   189.0\n",
       "The Unforgivable                  171.0\n",
       "Vivo                              166.0\n",
       "Red Notice                        162.0\n",
       "We Can Be Heroes                  144.0\n",
       "Hubie Halloween                   141.0\n",
       "How the Grinch Stole Christmas    137.0\n",
       "Project Power                     134.0\n",
       "The Christmas Chronicles 2        132.0\n",
       "Fatherhood                        129.0\n",
       "Yes Day                           126.0\n",
       "Wish Dragon                       125.0\n",
       "Home                              123.0\n",
       "American Murder: The Family…      117.0\n",
       "Name: Viewership Score, dtype: float64"
      ]
     },
     "execution_count": 44,
     "metadata": {},
     "output_type": "execute_result"
    }
   ],
   "source": [
    "movies=df[df['Type']=='Movie']\n",
    "Top_15=movies.groupby('Title')['Viewership Score'].max().sort_values(ascending=False)[0:16]\n",
    "Top_15"
   ]
  },
  {
   "cell_type": "markdown",
   "id": "c37f1c37",
   "metadata": {},
   "source": [
    "### h) Netflix Exclusive with yes in Days in top 10 arranged by netflix date"
   ]
  },
  {
   "cell_type": "code",
   "execution_count": 45,
   "id": "64c07099",
   "metadata": {},
   "outputs": [
    {
     "data": {
      "text/html": [
       "<div>\n",
       "<style scoped>\n",
       "    .dataframe tbody tr th:only-of-type {\n",
       "        vertical-align: middle;\n",
       "    }\n",
       "\n",
       "    .dataframe tbody tr th {\n",
       "        vertical-align: top;\n",
       "    }\n",
       "\n",
       "    .dataframe thead th {\n",
       "        text-align: right;\n",
       "    }\n",
       "</style>\n",
       "<table border=\"1\" class=\"dataframe\">\n",
       "  <thead>\n",
       "    <tr style=\"text-align: right;\">\n",
       "      <th></th>\n",
       "      <th>As of</th>\n",
       "      <th>Rank</th>\n",
       "      <th>Yr-Date Rank</th>\n",
       "      <th>Last Week Rank</th>\n",
       "      <th>Title</th>\n",
       "      <th>Type</th>\n",
       "      <th>Netflix Excl.</th>\n",
       "      <th>Netflix Date</th>\n",
       "      <th>Viewership Score</th>\n",
       "    </tr>\n",
       "    <tr>\n",
       "      <th>Days In Top 10</th>\n",
       "      <th></th>\n",
       "      <th></th>\n",
       "      <th></th>\n",
       "      <th></th>\n",
       "      <th></th>\n",
       "      <th></th>\n",
       "      <th></th>\n",
       "      <th></th>\n",
       "      <th></th>\n",
       "    </tr>\n",
       "  </thead>\n",
       "  <tbody>\n",
       "    <tr>\n",
       "      <th>89</th>\n",
       "      <td>2022-03-01</td>\n",
       "      <td>7</td>\n",
       "      <td>7</td>\n",
       "      <td>8</td>\n",
       "      <td>Ozark</td>\n",
       "      <td>TV Show</td>\n",
       "      <td>Yes</td>\n",
       "      <td>2017-07-21</td>\n",
       "      <td>291.5</td>\n",
       "    </tr>\n",
       "    <tr>\n",
       "      <th>74</th>\n",
       "      <td>2022-02-14</td>\n",
       "      <td>7</td>\n",
       "      <td>6</td>\n",
       "      <td>3</td>\n",
       "      <td>Ozark</td>\n",
       "      <td>TV Show</td>\n",
       "      <td>Yes</td>\n",
       "      <td>2017-07-21</td>\n",
       "      <td>291.5</td>\n",
       "    </tr>\n",
       "    <tr>\n",
       "      <th>75</th>\n",
       "      <td>2022-02-15</td>\n",
       "      <td>5</td>\n",
       "      <td>7</td>\n",
       "      <td>3</td>\n",
       "      <td>Ozark</td>\n",
       "      <td>TV Show</td>\n",
       "      <td>Yes</td>\n",
       "      <td>2017-07-21</td>\n",
       "      <td>291.5</td>\n",
       "    </tr>\n",
       "    <tr>\n",
       "      <th>76</th>\n",
       "      <td>2022-02-16</td>\n",
       "      <td>5</td>\n",
       "      <td>5</td>\n",
       "      <td>3</td>\n",
       "      <td>Ozark</td>\n",
       "      <td>TV Show</td>\n",
       "      <td>Yes</td>\n",
       "      <td>2017-07-21</td>\n",
       "      <td>291.5</td>\n",
       "    </tr>\n",
       "    <tr>\n",
       "      <th>77</th>\n",
       "      <td>2022-02-17</td>\n",
       "      <td>5</td>\n",
       "      <td>5</td>\n",
       "      <td>3</td>\n",
       "      <td>Ozark</td>\n",
       "      <td>TV Show</td>\n",
       "      <td>Yes</td>\n",
       "      <td>2017-07-21</td>\n",
       "      <td>291.5</td>\n",
       "    </tr>\n",
       "    <tr>\n",
       "      <th>...</th>\n",
       "      <td>...</td>\n",
       "      <td>...</td>\n",
       "      <td>...</td>\n",
       "      <td>...</td>\n",
       "      <td>...</td>\n",
       "      <td>...</td>\n",
       "      <td>...</td>\n",
       "      <td>...</td>\n",
       "      <td>...</td>\n",
       "    </tr>\n",
       "    <tr>\n",
       "      <th>5</th>\n",
       "      <td>2022-03-09</td>\n",
       "      <td>10</td>\n",
       "      <td>10</td>\n",
       "      <td>9</td>\n",
       "      <td>Ãlite</td>\n",
       "      <td>TV Show</td>\n",
       "      <td>Yes</td>\n",
       "      <td>2022-03-04</td>\n",
       "      <td>50.0</td>\n",
       "    </tr>\n",
       "    <tr>\n",
       "      <th>4</th>\n",
       "      <td>2022-03-08</td>\n",
       "      <td>10</td>\n",
       "      <td>10</td>\n",
       "      <td>5</td>\n",
       "      <td>Ãlite</td>\n",
       "      <td>TV Show</td>\n",
       "      <td>Yes</td>\n",
       "      <td>2022-03-04</td>\n",
       "      <td>40.0</td>\n",
       "    </tr>\n",
       "    <tr>\n",
       "      <th>3</th>\n",
       "      <td>2022-03-07</td>\n",
       "      <td>10</td>\n",
       "      <td>10</td>\n",
       "      <td>9</td>\n",
       "      <td>Ãlite</td>\n",
       "      <td>TV Show</td>\n",
       "      <td>Yes</td>\n",
       "      <td>2022-03-04</td>\n",
       "      <td>30.0</td>\n",
       "    </tr>\n",
       "    <tr>\n",
       "      <th>2</th>\n",
       "      <td>2022-03-06</td>\n",
       "      <td>10</td>\n",
       "      <td>10</td>\n",
       "      <td>0</td>\n",
       "      <td>Ãlite</td>\n",
       "      <td>TV Show</td>\n",
       "      <td>Yes</td>\n",
       "      <td>2022-03-04</td>\n",
       "      <td>20.0</td>\n",
       "    </tr>\n",
       "    <tr>\n",
       "      <th>1</th>\n",
       "      <td>2022-03-05</td>\n",
       "      <td>10</td>\n",
       "      <td>0</td>\n",
       "      <td>0</td>\n",
       "      <td>Ãlite</td>\n",
       "      <td>TV Show</td>\n",
       "      <td>Yes</td>\n",
       "      <td>2022-03-04</td>\n",
       "      <td>10.0</td>\n",
       "    </tr>\n",
       "  </tbody>\n",
       "</table>\n",
       "<p>89 rows × 9 columns</p>\n",
       "</div>"
      ],
      "text/plain": [
       "                    As of  Rank  Yr-Date Rank  Last Week Rank   Title  \\\n",
       "Days In Top 10                                                          \n",
       "89             2022-03-01     7             7               8   Ozark   \n",
       "74             2022-02-14     7             6               3   Ozark   \n",
       "75             2022-02-15     5             7               3   Ozark   \n",
       "76             2022-02-16     5             5               3   Ozark   \n",
       "77             2022-02-17     5             5               3   Ozark   \n",
       "...                   ...   ...           ...             ...     ...   \n",
       "5              2022-03-09    10            10               9  Ãlite   \n",
       "4              2022-03-08    10            10               5  Ãlite   \n",
       "3              2022-03-07    10            10               9  Ãlite   \n",
       "2              2022-03-06    10            10               0  Ãlite   \n",
       "1              2022-03-05    10             0               0  Ãlite   \n",
       "\n",
       "                   Type Netflix Excl. Netflix Date  Viewership Score  \n",
       "Days In Top 10                                                        \n",
       "89              TV Show           Yes   2017-07-21             291.5  \n",
       "74              TV Show           Yes   2017-07-21             291.5  \n",
       "75              TV Show           Yes   2017-07-21             291.5  \n",
       "76              TV Show           Yes   2017-07-21             291.5  \n",
       "77              TV Show           Yes   2017-07-21             291.5  \n",
       "...                 ...           ...          ...               ...  \n",
       "5               TV Show           Yes   2022-03-04              50.0  \n",
       "4               TV Show           Yes   2022-03-04              40.0  \n",
       "3               TV Show           Yes   2022-03-04              30.0  \n",
       "2               TV Show           Yes   2022-03-04              20.0  \n",
       "1               TV Show           Yes   2022-03-04              10.0  \n",
       "\n",
       "[89 rows x 9 columns]"
      ]
     },
     "execution_count": 45,
     "metadata": {},
     "output_type": "execute_result"
    }
   ],
   "source": [
    "output=df[df['Netflix Excl.']=='Yes']\n",
    "output_1=output.groupby('Days In Top 10').max().sort_values(by='Netflix Date',ascending=True)\n",
    "output_1"
   ]
  },
  {
   "cell_type": "markdown",
   "id": "8fa2333b",
   "metadata": {},
   "source": [
    "### i) Stand up comedy which occurs in Netflix Top 10 for the most time."
   ]
  },
  {
   "cell_type": "code",
   "execution_count": 46,
   "id": "33b8a11e",
   "metadata": {
    "scrolled": true
   },
   "outputs": [
    {
     "data": {
      "text/plain": [
       "Title\n",
       "Dave Chappelle: The Closer        16\n",
       "Kevin Hart: Zero F**ks Given      10\n",
       "George Lopez: Weâll Do It f…     5\n",
       "Jerry Seinfeld: 23 Hours to…       5\n",
       "Chris DâElia: No Pain            3\n",
       "Bo Burnham: Inside                 2\n",
       "Name: Days In Top 10, dtype: int64"
      ]
     },
     "execution_count": 46,
     "metadata": {},
     "output_type": "execute_result"
    }
   ],
   "source": [
    "comedy = df[df['Type'] == 'Stand-Up Comedy']\n",
    "c_1=comedy.groupby(['Title'])['Days In Top 10'].max().sort_values(ascending=False)\n",
    "c_1"
   ]
  },
  {
   "cell_type": "markdown",
   "id": "c4709319",
   "metadata": {},
   "source": [
    "***It can be seen that Dave Chappelle and Kevin Hart are the only two comedians with their shows with a stay in the Top 10 for 10 days or more***"
   ]
  },
  {
   "cell_type": "markdown",
   "id": "7a9bd72d",
   "metadata": {},
   "source": [
    "### j) Fetch details of concert performances that were in netflix exclusives"
   ]
  },
  {
   "cell_type": "code",
   "execution_count": 69,
   "id": "c5de99bb",
   "metadata": {},
   "outputs": [
    {
     "data": {
      "text/html": [
       "<div>\n",
       "<style scoped>\n",
       "    .dataframe tbody tr th:only-of-type {\n",
       "        vertical-align: middle;\n",
       "    }\n",
       "\n",
       "    .dataframe tbody tr th {\n",
       "        vertical-align: top;\n",
       "    }\n",
       "\n",
       "    .dataframe thead th {\n",
       "        text-align: right;\n",
       "    }\n",
       "</style>\n",
       "<table border=\"1\" class=\"dataframe\">\n",
       "  <thead>\n",
       "    <tr style=\"text-align: right;\">\n",
       "      <th></th>\n",
       "      <th>As of</th>\n",
       "      <th>Rank</th>\n",
       "      <th>Yr-Date Rank</th>\n",
       "      <th>Last Week Rank</th>\n",
       "      <th>Title</th>\n",
       "      <th>Type</th>\n",
       "      <th>Netflix Excl.</th>\n",
       "      <th>Netflix Date</th>\n",
       "      <th>Days In Top 10</th>\n",
       "      <th>Viewership Score</th>\n",
       "    </tr>\n",
       "  </thead>\n",
       "  <tbody>\n",
       "    <tr>\n",
       "      <th>2651</th>\n",
       "      <td>2020-12-22</td>\n",
       "      <td>2</td>\n",
       "      <td>0</td>\n",
       "      <td>0</td>\n",
       "      <td>Ariana Grande: Excuse Me, I…</td>\n",
       "      <td>Concert/Perf…</td>\n",
       "      <td>Yes</td>\n",
       "      <td>2020-12-21</td>\n",
       "      <td>1</td>\n",
       "      <td>9.0</td>\n",
       "    </tr>\n",
       "    <tr>\n",
       "      <th>2664</th>\n",
       "      <td>2020-12-23</td>\n",
       "      <td>5</td>\n",
       "      <td>2</td>\n",
       "      <td>0</td>\n",
       "      <td>Ariana Grande: Excuse Me, I…</td>\n",
       "      <td>Concert/Perf…</td>\n",
       "      <td>Yes</td>\n",
       "      <td>2020-12-21</td>\n",
       "      <td>2</td>\n",
       "      <td>15.0</td>\n",
       "    </tr>\n",
       "  </tbody>\n",
       "</table>\n",
       "</div>"
      ],
      "text/plain": [
       "          As of  Rank  Yr-Date Rank  Last Week Rank  \\\n",
       "2651 2020-12-22     2             0               0   \n",
       "2664 2020-12-23     5             2               0   \n",
       "\n",
       "                             Title           Type Netflix Excl. Netflix Date  \\\n",
       "2651  Ariana Grande: Excuse Me, I…  Concert/Perf…           Yes   2020-12-21   \n",
       "2664  Ariana Grande: Excuse Me, I…  Concert/Perf…           Yes   2020-12-21   \n",
       "\n",
       "      Days In Top 10  Viewership Score  \n",
       "2651               1               9.0  \n",
       "2664               2              15.0  "
      ]
     },
     "execution_count": 69,
     "metadata": {},
     "output_type": "execute_result"
    }
   ],
   "source": [
    "n=df[df['Type'] == 'Concert/Perf…']\n",
    "n"
   ]
  },
  {
   "cell_type": "code",
   "execution_count": 72,
   "id": "f2aef9fe",
   "metadata": {},
   "outputs": [],
   "source": [
    "a=df['Type']=='Concert/Perf…'\n",
    "b=df['Days In Top 10']"
   ]
  },
  {
   "cell_type": "code",
   "execution_count": 75,
   "id": "61e5c7d6",
   "metadata": {},
   "outputs": [
    {
     "name": "stderr",
     "output_type": "stream",
     "text": [
      "C:\\Users\\niksm\\anaconda3\\lib\\site-packages\\seaborn\\_decorators.py:36: FutureWarning: Pass the following variables as keyword args: x, y. From version 0.12, the only valid positional argument will be `data`, and passing other arguments without an explicit keyword will result in an error or misinterpretation.\n",
      "  warnings.warn(\n"
     ]
    },
    {
     "data": {
      "image/png": "[encoded data removed]",
      "text/plain": [
       "<Figure size 432x288 with 1 Axes>"
      ]
     },
     "metadata": {
      "needs_background": "light"
     },
     "output_type": "display_data"
    }
   ],
   "source": [
    "sns.stripplot(a,b)\n",
    "plt.xticks(rotation=45)\n",
    "plt.grid()\n",
    "plt.show()"
   ]
  },
  {
   "cell_type": "markdown",
   "id": "318e9330",
   "metadata": {},
   "source": [
    "***As above strip plot shows  that only 2 performances of Ariana Grande made it to top 10 which were Neflix exclusives***"
   ]
  }
 ],
 "metadata": {
  "kernelspec": {
   "display_name": "Python 3 (ipykernel)",
   "language": "python",
   "name": "python3"
  },
  "language_info": {
   "codemirror_mode": {
    "name": "ipython",
    "version": 3
   },
   "file_extension": ".py",
   "mimetype": "text/x-python",
   "name": "python",
   "nbconvert_exporter": "python",
   "pygments_lexer": "ipython3",
   "version": "3.9.7"
  }
 },
 "nbformat": 4,
 "nbformat_minor": 5
}
